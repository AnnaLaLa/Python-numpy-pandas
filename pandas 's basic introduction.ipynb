{
 "cells": [
  {
   "cell_type": "code",
   "execution_count": 2,
   "metadata": {},
   "outputs": [
    {
     "name": "stdout",
     "output_type": "stream",
     "text": [
      "0     1.0\n",
      "1     3.0\n",
      "2     4.0\n",
      "3     5.0\n",
      "4     NaN\n",
      "5    44.0\n",
      "6     1.0\n",
      "dtype: float64\n"
     ]
    }
   ],
   "source": [
    "import numpy as np\n",
    "import pandas as pd\n",
    "s = pd.Series([1,3,4,5,np.nan,44,1])\n",
    "print(s)"
   ]
  },
  {
   "cell_type": "code",
   "execution_count": 3,
   "metadata": {},
   "outputs": [
    {
     "name": "stdout",
     "output_type": "stream",
     "text": [
      "DatetimeIndex(['2020-06-28', '2020-06-29', '2020-06-30', '2020-07-01',\n",
      "               '2020-07-02', '2020-07-03'],\n",
      "              dtype='datetime64[ns]', freq='D')\n"
     ]
    }
   ],
   "source": [
    "dates = pd.date_range('20200628',periods=6)\n",
    "print(dates)"
   ]
  },
  {
   "cell_type": "code",
   "execution_count": 4,
   "metadata": {},
   "outputs": [
    {
     "name": "stdout",
     "output_type": "stream",
     "text": [
      "                   a         b         c         d\n",
      "2020-06-28 -0.814802 -0.369600 -0.515395  0.620186\n",
      "2020-06-29  0.428918  0.720391  0.264912 -0.729689\n",
      "2020-06-30  0.619954  1.179252  0.060475  1.669424\n",
      "2020-07-01 -0.453644 -0.709854  0.496595 -1.322909\n",
      "2020-07-02 -0.145626  2.572670 -1.467382  0.052307\n",
      "2020-07-03  1.108018  0.495276  1.365092  0.011004\n"
     ]
    }
   ],
   "source": [
    "df = pd.DataFrame(np.random.randn(6,4),index=dates,columns=['a','b','c','d'])#指定行和列的名称\n",
    "print(df)"
   ]
  },
  {
   "cell_type": "code",
   "execution_count": 6,
   "metadata": {},
   "outputs": [
    {
     "name": "stdout",
     "output_type": "stream",
     "text": [
      "   0  1   2   3\n",
      "0  0  1   2   3\n",
      "1  4  5   6   7\n",
      "2  8  9  10  11\n"
     ]
    }
   ],
   "source": [
    "df1 = pd.DataFrame(np.arange(12).reshape((3,4)))#没有指定行和列的名称，默认行和列的名称从0开始\n",
    "print(df1)"
   ]
  },
  {
   "cell_type": "code",
   "execution_count": 7,
   "metadata": {},
   "outputs": [
    {
     "name": "stdout",
     "output_type": "stream",
     "text": [
      "     A          B    c  D      E     F\n",
      "0  1.0 2020-06-28  1.0  3   test  fool\n",
      "1  1.0 2020-06-28  1.0  3  train  fool\n",
      "2  1.0 2020-06-28  1.0  3   test  fool\n",
      "3  1.0 2020-06-28  1.0  3  train  fool\n"
     ]
    }
   ],
   "source": [
    "df2 = pd.DataFrame({'A':1.,\n",
    "                   'B':pd.Timestamp('20200628'),\n",
    "                   'c':pd.Series(1,index=list(range(4)),dtype='float32'),\n",
    "                   'D':np.array([3]*4,dtype='int32'),\n",
    "                   'E':pd.Categorical([\"test\",\"train\",\"test\",\"train\"]),\n",
    "                   'F':'fool'})\n",
    "print(df2)#A,B,C,D,E,F是每一列的名字，然后后面的内容是每一列的内容。比如，A列所有内容是1.0"
   ]
  },
  {
   "cell_type": "code",
   "execution_count": 9,
   "metadata": {},
   "outputs": [
    {
     "name": "stdout",
     "output_type": "stream",
     "text": [
      "A           float64\n",
      "B    datetime64[ns]\n",
      "c           float32\n",
      "D             int32\n",
      "E          category\n",
      "F            object\n",
      "dtype: object\n"
     ]
    }
   ],
   "source": [
    "print(df2.dtypes)#each column's type"
   ]
  },
  {
   "cell_type": "code",
   "execution_count": 10,
   "metadata": {},
   "outputs": [
    {
     "name": "stdout",
     "output_type": "stream",
     "text": [
      "Int64Index([0, 1, 2, 3], dtype='int64')\n"
     ]
    }
   ],
   "source": [
    "print(df2.index)"
   ]
  },
  {
   "cell_type": "code",
   "execution_count": 12,
   "metadata": {},
   "outputs": [
    {
     "name": "stdout",
     "output_type": "stream",
     "text": [
      "Index(['A', 'B', 'c', 'D', 'E', 'F'], dtype='object')\n"
     ]
    }
   ],
   "source": [
    "print(df2.columns)"
   ]
  },
  {
   "cell_type": "code",
   "execution_count": 13,
   "metadata": {},
   "outputs": [
    {
     "data": {
      "text/plain": [
       "array([[1.0, Timestamp('2020-06-28 00:00:00'), 1.0, 3, 'test', 'fool'],\n",
       "       [1.0, Timestamp('2020-06-28 00:00:00'), 1.0, 3, 'train', 'fool'],\n",
       "       [1.0, Timestamp('2020-06-28 00:00:00'), 1.0, 3, 'test', 'fool'],\n",
       "       [1.0, Timestamp('2020-06-28 00:00:00'), 1.0, 3, 'train', 'fool']],\n",
       "      dtype=object)"
      ]
     },
     "execution_count": 13,
     "metadata": {},
     "output_type": "execute_result"
    }
   ],
   "source": [
    "df2.values"
   ]
  },
  {
   "cell_type": "code",
   "execution_count": 14,
   "metadata": {},
   "outputs": [
    {
     "name": "stdout",
     "output_type": "stream",
     "text": [
      "[[1.0 Timestamp('2020-06-28 00:00:00') 1.0 3 'test' 'fool']\n",
      " [1.0 Timestamp('2020-06-28 00:00:00') 1.0 3 'train' 'fool']\n",
      " [1.0 Timestamp('2020-06-28 00:00:00') 1.0 3 'test' 'fool']\n",
      " [1.0 Timestamp('2020-06-28 00:00:00') 1.0 3 'train' 'fool']]\n"
     ]
    }
   ],
   "source": [
    "print(df2.values)"
   ]
  },
  {
   "cell_type": "code",
   "execution_count": 15,
   "metadata": {},
   "outputs": [
    {
     "name": "stdout",
     "output_type": "stream",
     "text": [
      "         A    c    D\n",
      "count  4.0  4.0  4.0\n",
      "mean   1.0  1.0  3.0\n",
      "std    0.0  0.0  0.0\n",
      "min    1.0  1.0  3.0\n",
      "25%    1.0  1.0  3.0\n",
      "50%    1.0  1.0  3.0\n",
      "75%    1.0  1.0  3.0\n",
      "max    1.0  1.0  3.0\n"
     ]
    }
   ],
   "source": [
    "print(df2.describe())"
   ]
  },
  {
   "cell_type": "code",
   "execution_count": 16,
   "metadata": {},
   "outputs": [
    {
     "name": "stdout",
     "output_type": "stream",
     "text": [
      "                     0                    1                    2  \\\n",
      "A                    1                    1                    1   \n",
      "B  2020-06-28 00:00:00  2020-06-28 00:00:00  2020-06-28 00:00:00   \n",
      "c                    1                    1                    1   \n",
      "D                    3                    3                    3   \n",
      "E                 test                train                 test   \n",
      "F                 fool                 fool                 fool   \n",
      "\n",
      "                     3  \n",
      "A                    1  \n",
      "B  2020-06-28 00:00:00  \n",
      "c                    1  \n",
      "D                    3  \n",
      "E                train  \n",
      "F                 fool  \n"
     ]
    }
   ],
   "source": [
    "print(df2.T)"
   ]
  },
  {
   "cell_type": "code",
   "execution_count": 17,
   "metadata": {},
   "outputs": [
    {
     "name": "stdout",
     "output_type": "stream",
     "text": [
      "     c     F      E  D          B    A\n",
      "0  1.0  fool   test  3 2020-06-28  1.0\n",
      "1  1.0  fool  train  3 2020-06-28  1.0\n",
      "2  1.0  fool   test  3 2020-06-28  1.0\n",
      "3  1.0  fool  train  3 2020-06-28  1.0\n"
     ]
    }
   ],
   "source": [
    "print(df2.sort_index(axis=1,ascending=False))"
   ]
  },
  {
   "cell_type": "code",
   "execution_count": 18,
   "metadata": {},
   "outputs": [
    {
     "name": "stdout",
     "output_type": "stream",
     "text": [
      "     A          B    c  D      E     F\n",
      "3  1.0 2020-06-28  1.0  3  train  fool\n",
      "2  1.0 2020-06-28  1.0  3   test  fool\n",
      "1  1.0 2020-06-28  1.0  3  train  fool\n",
      "0  1.0 2020-06-28  1.0  3   test  fool\n"
     ]
    }
   ],
   "source": [
    "print(df2.sort_index(axis=0,ascending=False))"
   ]
  },
  {
   "cell_type": "code",
   "execution_count": 19,
   "metadata": {},
   "outputs": [
    {
     "name": "stdout",
     "output_type": "stream",
     "text": [
      "     A          B    c  D      E     F\n",
      "0  1.0 2020-06-28  1.0  3   test  fool\n",
      "2  1.0 2020-06-28  1.0  3   test  fool\n",
      "1  1.0 2020-06-28  1.0  3  train  fool\n",
      "3  1.0 2020-06-28  1.0  3  train  fool\n"
     ]
    }
   ],
   "source": [
    "print(df2.sort_values(by='E'))"
   ]
  }
 ],
 "metadata": {
  "kernelspec": {
   "display_name": "Python 3",
   "language": "python",
   "name": "python3"
  },
  "language_info": {
   "codemirror_mode": {
    "name": "ipython",
    "version": 3
   },
   "file_extension": ".py",
   "mimetype": "text/x-python",
   "name": "python",
   "nbconvert_exporter": "python",
   "pygments_lexer": "ipython3",
   "version": "3.7.6"
  }
 },
 "nbformat": 4,
 "nbformat_minor": 4
}

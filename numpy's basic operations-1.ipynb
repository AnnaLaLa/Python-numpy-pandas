{
 "cells": [
  {
   "cell_type": "code",
   "execution_count": 8,
   "metadata": {},
   "outputs": [
    {
     "name": "stdout",
     "output_type": "stream",
     "text": [
      "[10 20 30 40] [0 1 2 3]\n",
      "--------addition--------------\n",
      "[10 21 32 43]\n",
      "-----------substruction--------------\n",
      "[10 19 28 37]\n",
      "-------------multiplication-------------\n",
      "[  0  20  60 120]\n",
      "-------------square----------\n",
      "[ 100  400  900 1600]\n"
     ]
    }
   ],
   "source": [
    "import numpy as np\n",
    "a = np.array([10,20,30,40])\n",
    "b = np.arange(4)#an array from zero to three\n",
    "print(a,b)\n",
    "print('--------addition--------------')\n",
    "c = a + b\n",
    "print(c)\n",
    "print('-----------substruction--------------')\n",
    "d = a - b\n",
    "print(d)\n",
    "print('-------------multiplication-------------')\n",
    "e = a * b\n",
    "print(e)\n",
    "print('-------------square----------')\n",
    "f = a**2\n",
    "print(f)"
   ]
  },
  {
   "cell_type": "code",
   "execution_count": 12,
   "metadata": {},
   "outputs": [
    {
     "name": "stdout",
     "output_type": "stream",
     "text": [
      "[-0.54402111  0.91294525 -0.98803162  0.74511316]\n",
      "[-0.83907153  0.40808206  0.15425145 -0.66693806]\n",
      "[ 0.64836083  2.23716094 -6.4053312  -1.11721493]\n"
     ]
    }
   ],
   "source": [
    "#trigonometric function\n",
    "g = np.sin(a)#each number in a calculation sin number\n",
    "print(g)\n",
    "h = np.cos(a)\n",
    "print(h)\n",
    "i = np.tan(a)\n",
    "print(i)"
   ]
  },
  {
   "cell_type": "code",
   "execution_count": 14,
   "metadata": {},
   "outputs": [
    {
     "name": "stdout",
     "output_type": "stream",
     "text": [
      "[0 1 2 3]\n",
      "[ True  True  True False]\n",
      "[False False False  True]\n"
     ]
    }
   ],
   "source": [
    "#if the number of b is be smaller three print True, else print False\n",
    "print(b)\n",
    "print(b<3)\n",
    "print(b==3)"
   ]
  },
  {
   "cell_type": "code",
   "execution_count": 19,
   "metadata": {},
   "outputs": [
    {
     "name": "stdout",
     "output_type": "stream",
     "text": [
      "[[1 1]\n",
      " [0 1]]\n",
      "[[0 1]\n",
      " [2 3]]\n",
      "----------------------------------------\n",
      "[[0 1]\n",
      " [0 3]]\n",
      "[[2 4]\n",
      " [2 3]]\n",
      "[[2 4]\n",
      " [2 3]]\n"
     ]
    }
   ],
   "source": [
    "#matrix's operations\n",
    "x = np.array([[1,1],[0,1]])\n",
    "y = np.arange(4).reshape((2,2))\n",
    "print(x)\n",
    "print(y)\n",
    "print('----------------------------------------')\n",
    "j = x * y\n",
    "k = np.dot(x,y)\n",
    "print(j)#same position number calculation\n",
    "print(k)#the matrix calculation method\n",
    "k2 = x.dot(y)#compare k the same result,but different method\n",
    "print(k2)"
   ]
  },
  {
   "cell_type": "code",
   "execution_count": 24,
   "metadata": {},
   "outputs": [
    {
     "name": "stdout",
     "output_type": "stream",
     "text": [
      "[[0.86867396 0.22940151 0.28434443 0.16688232]\n",
      " [0.63800731 0.05432881 0.40046714 0.0025449 ]]\n",
      "2.64465038516882\n",
      "0.0025449039021242514\n",
      "0.868673957276928\n",
      "----------------------\n",
      "[0.63800731 0.05432881 0.28434443 0.0025449 ]\n",
      "[0.86867396 0.63800731]\n"
     ]
    }
   ],
   "source": [
    "# a random matrix from zero to one\n",
    "z = np.random.random((2,4))\n",
    "print(z)\n",
    "print(np.sum(z))\n",
    "print(np.min(z))\n",
    "print(np.max(z))\n",
    "print('----------------------')\n",
    "print(np.min(z,axis=0))#find the min number in every column\n",
    "print(np.max(z,axis=1))#find the max number in every row"
   ]
  }
 ],
 "metadata": {
  "kernelspec": {
   "display_name": "Python 3",
   "language": "python",
   "name": "python3"
  },
  "language_info": {
   "codemirror_mode": {
    "name": "ipython",
    "version": 3
   },
   "file_extension": ".py",
   "mimetype": "text/x-python",
   "name": "python",
   "nbconvert_exporter": "python",
   "pygments_lexer": "ipython3",
   "version": "3.7.6"
  }
 },
 "nbformat": 4,
 "nbformat_minor": 4
}

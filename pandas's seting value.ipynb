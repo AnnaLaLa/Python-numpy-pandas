{
 "cells": [
  {
   "cell_type": "code",
   "execution_count": 2,
   "metadata": {},
   "outputs": [
    {
     "name": "stdout",
     "output_type": "stream",
     "text": [
      "             A   B   C   D\n",
      "2020-06-28   0   1   2   3\n",
      "2020-06-29   4   5   6   7\n",
      "2020-06-30   8   9  10  11\n",
      "2020-07-01  12  13  14  15\n",
      "2020-07-02  16  17  18  19\n",
      "2020-07-03  20  21  22  23\n"
     ]
    }
   ],
   "source": [
    "import pandas as pd\n",
    "import numpy as np\n",
    "dates = pd.date_range('20200628',periods=6)\n",
    "df = pd.DataFrame(np.arange(24).reshape((6,4)),index=dates,columns=['A','B','C','D'])\n",
    "print(df)"
   ]
  },
  {
   "cell_type": "code",
   "execution_count": 3,
   "metadata": {},
   "outputs": [
    {
     "name": "stdout",
     "output_type": "stream",
     "text": [
      "             A   B     C   D\n",
      "2020-06-28   0   1     2   3\n",
      "2020-06-29   4   5     6   7\n",
      "2020-06-30   8   9  1111  11\n",
      "2020-07-01  12  13    14  15\n",
      "2020-07-02  16  17    18  19\n",
      "2020-07-03  20  21    22  23\n"
     ]
    }
   ],
   "source": [
    "df.iloc[2,2] = 1111\n",
    "print(df)"
   ]
  },
  {
   "cell_type": "code",
   "execution_count": 4,
   "metadata": {},
   "outputs": [
    {
     "name": "stdout",
     "output_type": "stream",
     "text": [
      "             A    B     C   D\n",
      "2020-06-28   0    1     2   3\n",
      "2020-06-29   4  222     6   7\n",
      "2020-06-30   8    9  1111  11\n",
      "2020-07-01  12   13    14  15\n",
      "2020-07-02  16   17    18  19\n",
      "2020-07-03  20   21    22  23\n"
     ]
    }
   ],
   "source": [
    "df.loc['20200629','B'] = 222\n",
    "print(df)"
   ]
  },
  {
   "cell_type": "code",
   "execution_count": 17,
   "metadata": {},
   "outputs": [
    {
     "name": "stdout",
     "output_type": "stream",
     "text": [
      "            A    B  C  D\n",
      "2020-06-28  0    1  2  3\n",
      "2020-06-29  4  222  6  7\n",
      "2020-06-30  0    0  0  0\n",
      "2020-07-01  0    0  0  0\n",
      "2020-07-02  0    0  0  0\n",
      "2020-07-03  0    0  0  0\n"
     ]
    }
   ],
   "source": [
    "df[df.A>4] = 0\n",
    "print(df)"
   ]
  },
  {
   "cell_type": "code",
   "execution_count": 22,
   "metadata": {},
   "outputs": [
    {
     "name": "stdout",
     "output_type": "stream",
     "text": [
      "            A    B  C  D\n",
      "2020-06-28  0    1  2  3\n",
      "2020-06-29  4  222  6  7\n",
      "2020-06-30  0    0  0  0\n",
      "2020-07-01  0    0  0  0\n",
      "2020-07-02  0    0  0  0\n",
      "2020-07-03  0    0  0  0\n"
     ]
    }
   ],
   "source": [
    "df.A[df.A>4] = 0\n",
    "print(df)"
   ]
  },
  {
   "cell_type": "code",
   "execution_count": 23,
   "metadata": {},
   "outputs": [
    {
     "name": "stdout",
     "output_type": "stream",
     "text": [
      "            A  B  C  D\n",
      "2020-06-28  0  1  2  3\n",
      "2020-06-29  4  0  6  7\n",
      "2020-06-30  0  0  0  0\n",
      "2020-07-01  0  0  0  0\n",
      "2020-07-02  0  0  0  0\n",
      "2020-07-03  0  0  0  0\n"
     ]
    }
   ],
   "source": [
    "df.B[df.B>4] = 0\n",
    "print(df)"
   ]
  },
  {
   "cell_type": "code",
   "execution_count": 24,
   "metadata": {},
   "outputs": [
    {
     "name": "stdout",
     "output_type": "stream",
     "text": [
      "            A  B  C  D   F\n",
      "2020-06-28  0  1  2  3 NaN\n",
      "2020-06-29  4  0  6  7 NaN\n",
      "2020-06-30  0  0  0  0 NaN\n",
      "2020-07-01  0  0  0  0 NaN\n",
      "2020-07-02  0  0  0  0 NaN\n",
      "2020-07-03  0  0  0  0 NaN\n"
     ]
    }
   ],
   "source": [
    "df['F'] = np.nan\n",
    "print(df)"
   ]
  },
  {
   "cell_type": "code",
   "execution_count": 26,
   "metadata": {},
   "outputs": [
    {
     "name": "stdout",
     "output_type": "stream",
     "text": [
      "            A  B  C  D   F  E\n",
      "2020-06-28  0  1  2  3 NaN  1\n",
      "2020-06-29  4  0  6  7 NaN  2\n",
      "2020-06-30  0  0  0  0 NaN  3\n",
      "2020-07-01  0  0  0  0 NaN  4\n",
      "2020-07-02  0  0  0  0 NaN  5\n",
      "2020-07-03  0  0  0  0 NaN  6\n"
     ]
    }
   ],
   "source": [
    "df['E'] = pd.Series([1,2,3,4,5,6],index=pd.date_range('20200628',periods=6))\n",
    "print(df)"
   ]
  }
 ],
 "metadata": {
  "kernelspec": {
   "display_name": "Python 3",
   "language": "python",
   "name": "python3"
  },
  "language_info": {
   "codemirror_mode": {
    "name": "ipython",
    "version": 3
   },
   "file_extension": ".py",
   "mimetype": "text/x-python",
   "name": "python",
   "nbconvert_exporter": "python",
   "pygments_lexer": "ipython3",
   "version": "3.7.6"
  }
 },
 "nbformat": 4,
 "nbformat_minor": 4
}

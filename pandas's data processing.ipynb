{
 "cells": [
  {
   "cell_type": "code",
   "execution_count": 1,
   "metadata": {},
   "outputs": [
    {
     "name": "stdout",
     "output_type": "stream",
     "text": [
      "             A     B     C   D\n",
      "2020-06-28   0   NaN   2.0   3\n",
      "2020-06-29   4   5.0   NaN   7\n",
      "2020-06-30   8   9.0  10.0  11\n",
      "2020-07-01  12  13.0  14.0  15\n",
      "2020-07-02  16  17.0  18.0  19\n",
      "2020-07-03  20  21.0  22.0  23\n"
     ]
    }
   ],
   "source": [
    "import pandas as pd\n",
    "import numpy as np\n",
    "dates = pd.date_range('20200628',periods=6)\n",
    "df = pd.DataFrame(np.arange(24).reshape((6,4)),index=dates,columns=['A','B','C','D'])\n",
    "df.iloc[0,1] = np.nan\n",
    "df.iloc[1,2] = np.nan\n",
    "print(df)"
   ]
  },
  {
   "cell_type": "code",
   "execution_count": 2,
   "metadata": {},
   "outputs": [
    {
     "name": "stdout",
     "output_type": "stream",
     "text": [
      "             A     B     C   D\n",
      "2020-06-30   8   9.0  10.0  11\n",
      "2020-07-01  12  13.0  14.0  15\n",
      "2020-07-02  16  17.0  18.0  19\n",
      "2020-07-03  20  21.0  22.0  23\n"
     ]
    }
   ],
   "source": [
    "print(df.dropna())"
   ]
  },
  {
   "cell_type": "code",
   "execution_count": 3,
   "metadata": {},
   "outputs": [
    {
     "name": "stdout",
     "output_type": "stream",
     "text": [
      "             A     B     C   D\n",
      "2020-06-30   8   9.0  10.0  11\n",
      "2020-07-01  12  13.0  14.0  15\n",
      "2020-07-02  16  17.0  18.0  19\n",
      "2020-07-03  20  21.0  22.0  23\n"
     ]
    }
   ],
   "source": [
    "print(df.dropna(axis=0,how='any'))"
   ]
  },
  {
   "cell_type": "code",
   "execution_count": 4,
   "metadata": {},
   "outputs": [
    {
     "name": "stdout",
     "output_type": "stream",
     "text": [
      "             A     B     C   D\n",
      "2020-06-28   0   0.0   2.0   3\n",
      "2020-06-29   4   5.0   0.0   7\n",
      "2020-06-30   8   9.0  10.0  11\n",
      "2020-07-01  12  13.0  14.0  15\n",
      "2020-07-02  16  17.0  18.0  19\n",
      "2020-07-03  20  21.0  22.0  23\n"
     ]
    }
   ],
   "source": [
    "print(df.fillna(value=0))"
   ]
  },
  {
   "cell_type": "code",
   "execution_count": 5,
   "metadata": {},
   "outputs": [
    {
     "name": "stdout",
     "output_type": "stream",
     "text": [
      "                A      B      C      D\n",
      "2020-06-28  False   True  False  False\n",
      "2020-06-29  False  False   True  False\n",
      "2020-06-30  False  False  False  False\n",
      "2020-07-01  False  False  False  False\n",
      "2020-07-02  False  False  False  False\n",
      "2020-07-03  False  False  False  False\n"
     ]
    }
   ],
   "source": [
    "print(df.isnull())"
   ]
  },
  {
   "cell_type": "code",
   "execution_count": 6,
   "metadata": {},
   "outputs": [
    {
     "name": "stdout",
     "output_type": "stream",
     "text": [
      "True\n"
     ]
    }
   ],
   "source": [
    "print(np.any(df.isnull() == True))#if print out true means at least one data lost"
   ]
  }
 ],
 "metadata": {
  "kernelspec": {
   "display_name": "Python 3",
   "language": "python",
   "name": "python3"
  },
  "language_info": {
   "codemirror_mode": {
    "name": "ipython",
    "version": 3
   },
   "file_extension": ".py",
   "mimetype": "text/x-python",
   "name": "python",
   "nbconvert_exporter": "python",
   "pygments_lexer": "ipython3",
   "version": "3.7.6"
  }
 },
 "nbformat": 4,
 "nbformat_minor": 4
}

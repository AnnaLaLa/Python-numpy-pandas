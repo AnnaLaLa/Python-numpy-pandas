{
 "cells": [
  {
   "cell_type": "code",
   "execution_count": 2,
   "metadata": {},
   "outputs": [
    {
     "name": "stdout",
     "output_type": "stream",
     "text": [
      "          测点     挠度(mm)                     采集时间\n",
      "0     Y-ZD-4  467.42857  2019-12-04 18:39:21.937\n",
      "1     Y-ZD-4  465.48980  2019-12-04 18:44:21.000\n",
      "2     Y-ZD-4  467.42857  2019-12-04 18:49:21.000\n",
      "3     Y-ZD-4  467.32653  2019-12-04 18:54:21.000\n",
      "4     Y-ZD-4  461.91837  2019-12-04 18:59:21.937\n",
      "...      ...        ...                      ...\n",
      "9255  Y-ZD-4    0.00000  2020-06-23 22:04:21.000\n",
      "9256  Y-ZD-4    0.00000  2020-06-23 22:34:21.000\n",
      "9257  Y-ZD-4    0.00000  2020-06-23 23:04:21.000\n",
      "9258  Y-ZD-4    0.00000  2020-06-23 23:34:21.000\n",
      "9259  Y-ZD-4    0.00000  2020-06-24 00:04:21.000\n",
      "\n",
      "[9260 rows x 3 columns]\n"
     ]
    }
   ],
   "source": [
    "import pandas as pd\n",
    "data = pd.read_csv('test.csv')\n",
    "print(data)"
   ]
  },
  {
   "cell_type": "code",
   "execution_count": 3,
   "metadata": {},
   "outputs": [],
   "source": [
    "data.to_pickle('test.pickle')#看代码所在的目录，已经多创建了一个文件"
   ]
  }
 ],
 "metadata": {
  "kernelspec": {
   "display_name": "Python 3",
   "language": "python",
   "name": "python3"
  },
  "language_info": {
   "codemirror_mode": {
    "name": "ipython",
    "version": 3
   },
   "file_extension": ".py",
   "mimetype": "text/x-python",
   "name": "python",
   "nbconvert_exporter": "python",
   "pygments_lexer": "ipython3",
   "version": "3.7.6"
  }
 },
 "nbformat": 4,
 "nbformat_minor": 4
}
